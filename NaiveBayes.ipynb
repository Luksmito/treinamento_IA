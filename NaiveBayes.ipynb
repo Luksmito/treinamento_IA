{
  "nbformat": 4,
  "nbformat_minor": 0,
  "metadata": {
    "colab": {
      "provenance": []
    },
    "kernelspec": {
      "name": "python3",
      "display_name": "Python 3"
    },
    "language_info": {
      "name": "python"
    }
  },
  "cells": [
    {
      "cell_type": "code",
      "execution_count": 1,
      "metadata": {
        "id": "oOrjQCOtYW7t"
      },
      "outputs": [],
      "source": [
        "import pandas as pd\n",
        "from sklearn.model_selection import train_test_split\n",
        "from sklearn.naive_bayes import GaussianNB\n",
        "from sklearn.preprocessing import LabelEncoder\n",
        "from sklearn.metrics import accuracy_score, precision_score, recall_score, f1_score, classification_report\n",
        "from yellowbrick.classifier import ConfusionMatrix\n"
      ]
    },
    {
      "cell_type": "code",
      "source": [
        "base = pd.read_csv('insurance.csv')\n",
        "base['Accident'] = base['Accident'].fillna(\"None\")\n"
      ],
      "metadata": {
        "id": "sk1vRfVQZXA8"
      },
      "execution_count": 44,
      "outputs": []
    },
    {
      "cell_type": "code",
      "source": [
        "base = base.drop(columns=['Unnamed: 0'])\n",
        "base.head()"
      ],
      "metadata": {
        "colab": {
          "base_uri": "https://localhost:8080/",
          "height": 256
        },
        "id": "axAgn2PNZfBv",
        "outputId": "54752fbb-3d98-4d9b-a937-697537a75538"
      },
      "execution_count": 45,
      "outputs": [
        {
          "output_type": "execute_result",
          "data": {
            "text/plain": [
              "   GoodStudent         Age    SocioEcon RiskAversion VehicleYear ThisCarDam  \\\n",
              "0        False       Adult        Prole  Adventurous       Older   Moderate   \n",
              "1        False      Senior        Prole     Cautious     Current        NaN   \n",
              "2        False      Senior  UpperMiddle   Psychopath     Current        NaN   \n",
              "3        False  Adolescent       Middle       Normal       Older        NaN   \n",
              "4        False  Adolescent        Prole       Normal       Older   Moderate   \n",
              "\n",
              "  RuggedAuto  Accident    MakeModel DrivQuality  ... HomeBase  AntiTheft  \\\n",
              "0   EggShell      Mild      Economy        Poor  ...     City      False   \n",
              "1   Football      None      Economy      Normal  ...     City       True   \n",
              "2   Football      None  FamilySedan   Excellent  ...     City      False   \n",
              "3   EggShell      None      Economy      Normal  ...   Suburb      False   \n",
              "4   Football  Moderate      Economy        Poor  ...     City      False   \n",
              "\n",
              "   PropCost  OtherCarCost OtherCar   MedCost Cushioning Airbag   ILiCost  \\\n",
              "0   TenThou      Thousand     True  Thousand       Poor  False  Thousand   \n",
              "1  Thousand      Thousand     True  Thousand       Good   True  Thousand   \n",
              "2  Thousand      Thousand    False  Thousand       Good   True  Thousand   \n",
              "3  Thousand      Thousand     True  Thousand       Fair  False  Thousand   \n",
              "4   TenThou      Thousand    False  Thousand       Fair  False  Thousand   \n",
              "\n",
              "  DrivHist  \n",
              "0     Many  \n",
              "1     Zero  \n",
              "2      One  \n",
              "3     Zero  \n",
              "4     Many  \n",
              "\n",
              "[5 rows x 27 columns]"
            ],
            "text/html": [
              "\n",
              "  <div id=\"df-8fe596cf-0a10-422e-83fa-19741790a35e\" class=\"colab-df-container\">\n",
              "    <div>\n",
              "<style scoped>\n",
              "    .dataframe tbody tr th:only-of-type {\n",
              "        vertical-align: middle;\n",
              "    }\n",
              "\n",
              "    .dataframe tbody tr th {\n",
              "        vertical-align: top;\n",
              "    }\n",
              "\n",
              "    .dataframe thead th {\n",
              "        text-align: right;\n",
              "    }\n",
              "</style>\n",
              "<table border=\"1\" class=\"dataframe\">\n",
              "  <thead>\n",
              "    <tr style=\"text-align: right;\">\n",
              "      <th></th>\n",
              "      <th>GoodStudent</th>\n",
              "      <th>Age</th>\n",
              "      <th>SocioEcon</th>\n",
              "      <th>RiskAversion</th>\n",
              "      <th>VehicleYear</th>\n",
              "      <th>ThisCarDam</th>\n",
              "      <th>RuggedAuto</th>\n",
              "      <th>Accident</th>\n",
              "      <th>MakeModel</th>\n",
              "      <th>DrivQuality</th>\n",
              "      <th>...</th>\n",
              "      <th>HomeBase</th>\n",
              "      <th>AntiTheft</th>\n",
              "      <th>PropCost</th>\n",
              "      <th>OtherCarCost</th>\n",
              "      <th>OtherCar</th>\n",
              "      <th>MedCost</th>\n",
              "      <th>Cushioning</th>\n",
              "      <th>Airbag</th>\n",
              "      <th>ILiCost</th>\n",
              "      <th>DrivHist</th>\n",
              "    </tr>\n",
              "  </thead>\n",
              "  <tbody>\n",
              "    <tr>\n",
              "      <th>0</th>\n",
              "      <td>False</td>\n",
              "      <td>Adult</td>\n",
              "      <td>Prole</td>\n",
              "      <td>Adventurous</td>\n",
              "      <td>Older</td>\n",
              "      <td>Moderate</td>\n",
              "      <td>EggShell</td>\n",
              "      <td>Mild</td>\n",
              "      <td>Economy</td>\n",
              "      <td>Poor</td>\n",
              "      <td>...</td>\n",
              "      <td>City</td>\n",
              "      <td>False</td>\n",
              "      <td>TenThou</td>\n",
              "      <td>Thousand</td>\n",
              "      <td>True</td>\n",
              "      <td>Thousand</td>\n",
              "      <td>Poor</td>\n",
              "      <td>False</td>\n",
              "      <td>Thousand</td>\n",
              "      <td>Many</td>\n",
              "    </tr>\n",
              "    <tr>\n",
              "      <th>1</th>\n",
              "      <td>False</td>\n",
              "      <td>Senior</td>\n",
              "      <td>Prole</td>\n",
              "      <td>Cautious</td>\n",
              "      <td>Current</td>\n",
              "      <td>NaN</td>\n",
              "      <td>Football</td>\n",
              "      <td>None</td>\n",
              "      <td>Economy</td>\n",
              "      <td>Normal</td>\n",
              "      <td>...</td>\n",
              "      <td>City</td>\n",
              "      <td>True</td>\n",
              "      <td>Thousand</td>\n",
              "      <td>Thousand</td>\n",
              "      <td>True</td>\n",
              "      <td>Thousand</td>\n",
              "      <td>Good</td>\n",
              "      <td>True</td>\n",
              "      <td>Thousand</td>\n",
              "      <td>Zero</td>\n",
              "    </tr>\n",
              "    <tr>\n",
              "      <th>2</th>\n",
              "      <td>False</td>\n",
              "      <td>Senior</td>\n",
              "      <td>UpperMiddle</td>\n",
              "      <td>Psychopath</td>\n",
              "      <td>Current</td>\n",
              "      <td>NaN</td>\n",
              "      <td>Football</td>\n",
              "      <td>None</td>\n",
              "      <td>FamilySedan</td>\n",
              "      <td>Excellent</td>\n",
              "      <td>...</td>\n",
              "      <td>City</td>\n",
              "      <td>False</td>\n",
              "      <td>Thousand</td>\n",
              "      <td>Thousand</td>\n",
              "      <td>False</td>\n",
              "      <td>Thousand</td>\n",
              "      <td>Good</td>\n",
              "      <td>True</td>\n",
              "      <td>Thousand</td>\n",
              "      <td>One</td>\n",
              "    </tr>\n",
              "    <tr>\n",
              "      <th>3</th>\n",
              "      <td>False</td>\n",
              "      <td>Adolescent</td>\n",
              "      <td>Middle</td>\n",
              "      <td>Normal</td>\n",
              "      <td>Older</td>\n",
              "      <td>NaN</td>\n",
              "      <td>EggShell</td>\n",
              "      <td>None</td>\n",
              "      <td>Economy</td>\n",
              "      <td>Normal</td>\n",
              "      <td>...</td>\n",
              "      <td>Suburb</td>\n",
              "      <td>False</td>\n",
              "      <td>Thousand</td>\n",
              "      <td>Thousand</td>\n",
              "      <td>True</td>\n",
              "      <td>Thousand</td>\n",
              "      <td>Fair</td>\n",
              "      <td>False</td>\n",
              "      <td>Thousand</td>\n",
              "      <td>Zero</td>\n",
              "    </tr>\n",
              "    <tr>\n",
              "      <th>4</th>\n",
              "      <td>False</td>\n",
              "      <td>Adolescent</td>\n",
              "      <td>Prole</td>\n",
              "      <td>Normal</td>\n",
              "      <td>Older</td>\n",
              "      <td>Moderate</td>\n",
              "      <td>Football</td>\n",
              "      <td>Moderate</td>\n",
              "      <td>Economy</td>\n",
              "      <td>Poor</td>\n",
              "      <td>...</td>\n",
              "      <td>City</td>\n",
              "      <td>False</td>\n",
              "      <td>TenThou</td>\n",
              "      <td>Thousand</td>\n",
              "      <td>False</td>\n",
              "      <td>Thousand</td>\n",
              "      <td>Fair</td>\n",
              "      <td>False</td>\n",
              "      <td>Thousand</td>\n",
              "      <td>Many</td>\n",
              "    </tr>\n",
              "  </tbody>\n",
              "</table>\n",
              "<p>5 rows × 27 columns</p>\n",
              "</div>\n",
              "    <div class=\"colab-df-buttons\">\n",
              "\n",
              "  <div class=\"colab-df-container\">\n",
              "    <button class=\"colab-df-convert\" onclick=\"convertToInteractive('df-8fe596cf-0a10-422e-83fa-19741790a35e')\"\n",
              "            title=\"Convert this dataframe to an interactive table.\"\n",
              "            style=\"display:none;\">\n",
              "\n",
              "  <svg xmlns=\"http://www.w3.org/2000/svg\" height=\"24px\" viewBox=\"0 -960 960 960\">\n",
              "    <path d=\"M120-120v-720h720v720H120Zm60-500h600v-160H180v160Zm220 220h160v-160H400v160Zm0 220h160v-160H400v160ZM180-400h160v-160H180v160Zm440 0h160v-160H620v160ZM180-180h160v-160H180v160Zm440 0h160v-160H620v160Z\"/>\n",
              "  </svg>\n",
              "    </button>\n",
              "\n",
              "  <style>\n",
              "    .colab-df-container {\n",
              "      display:flex;\n",
              "      gap: 12px;\n",
              "    }\n",
              "\n",
              "    .colab-df-convert {\n",
              "      background-color: #E8F0FE;\n",
              "      border: none;\n",
              "      border-radius: 50%;\n",
              "      cursor: pointer;\n",
              "      display: none;\n",
              "      fill: #1967D2;\n",
              "      height: 32px;\n",
              "      padding: 0 0 0 0;\n",
              "      width: 32px;\n",
              "    }\n",
              "\n",
              "    .colab-df-convert:hover {\n",
              "      background-color: #E2EBFA;\n",
              "      box-shadow: 0px 1px 2px rgba(60, 64, 67, 0.3), 0px 1px 3px 1px rgba(60, 64, 67, 0.15);\n",
              "      fill: #174EA6;\n",
              "    }\n",
              "\n",
              "    .colab-df-buttons div {\n",
              "      margin-bottom: 4px;\n",
              "    }\n",
              "\n",
              "    [theme=dark] .colab-df-convert {\n",
              "      background-color: #3B4455;\n",
              "      fill: #D2E3FC;\n",
              "    }\n",
              "\n",
              "    [theme=dark] .colab-df-convert:hover {\n",
              "      background-color: #434B5C;\n",
              "      box-shadow: 0px 1px 3px 1px rgba(0, 0, 0, 0.15);\n",
              "      filter: drop-shadow(0px 1px 2px rgba(0, 0, 0, 0.3));\n",
              "      fill: #FFFFFF;\n",
              "    }\n",
              "  </style>\n",
              "\n",
              "    <script>\n",
              "      const buttonEl =\n",
              "        document.querySelector('#df-8fe596cf-0a10-422e-83fa-19741790a35e button.colab-df-convert');\n",
              "      buttonEl.style.display =\n",
              "        google.colab.kernel.accessAllowed ? 'block' : 'none';\n",
              "\n",
              "      async function convertToInteractive(key) {\n",
              "        const element = document.querySelector('#df-8fe596cf-0a10-422e-83fa-19741790a35e');\n",
              "        const dataTable =\n",
              "          await google.colab.kernel.invokeFunction('convertToInteractive',\n",
              "                                                    [key], {});\n",
              "        if (!dataTable) return;\n",
              "\n",
              "        const docLinkHtml = 'Like what you see? Visit the ' +\n",
              "          '<a target=\"_blank\" href=https://colab.research.google.com/notebooks/data_table.ipynb>data table notebook</a>'\n",
              "          + ' to learn more about interactive tables.';\n",
              "        element.innerHTML = '';\n",
              "        dataTable['output_type'] = 'display_data';\n",
              "        await google.colab.output.renderOutput(dataTable, element);\n",
              "        const docLink = document.createElement('div');\n",
              "        docLink.innerHTML = docLinkHtml;\n",
              "        element.appendChild(docLink);\n",
              "      }\n",
              "    </script>\n",
              "  </div>\n",
              "\n",
              "\n",
              "<div id=\"df-dbdaea66-bf5b-4d6a-9f55-3a12e88f235a\">\n",
              "  <button class=\"colab-df-quickchart\" onclick=\"quickchart('df-dbdaea66-bf5b-4d6a-9f55-3a12e88f235a')\"\n",
              "            title=\"Suggest charts\"\n",
              "            style=\"display:none;\">\n",
              "\n",
              "<svg xmlns=\"http://www.w3.org/2000/svg\" height=\"24px\"viewBox=\"0 0 24 24\"\n",
              "     width=\"24px\">\n",
              "    <g>\n",
              "        <path d=\"M19 3H5c-1.1 0-2 .9-2 2v14c0 1.1.9 2 2 2h14c1.1 0 2-.9 2-2V5c0-1.1-.9-2-2-2zM9 17H7v-7h2v7zm4 0h-2V7h2v10zm4 0h-2v-4h2v4z\"/>\n",
              "    </g>\n",
              "</svg>\n",
              "  </button>\n",
              "\n",
              "<style>\n",
              "  .colab-df-quickchart {\n",
              "      --bg-color: #E8F0FE;\n",
              "      --fill-color: #1967D2;\n",
              "      --hover-bg-color: #E2EBFA;\n",
              "      --hover-fill-color: #174EA6;\n",
              "      --disabled-fill-color: #AAA;\n",
              "      --disabled-bg-color: #DDD;\n",
              "  }\n",
              "\n",
              "  [theme=dark] .colab-df-quickchart {\n",
              "      --bg-color: #3B4455;\n",
              "      --fill-color: #D2E3FC;\n",
              "      --hover-bg-color: #434B5C;\n",
              "      --hover-fill-color: #FFFFFF;\n",
              "      --disabled-bg-color: #3B4455;\n",
              "      --disabled-fill-color: #666;\n",
              "  }\n",
              "\n",
              "  .colab-df-quickchart {\n",
              "    background-color: var(--bg-color);\n",
              "    border: none;\n",
              "    border-radius: 50%;\n",
              "    cursor: pointer;\n",
              "    display: none;\n",
              "    fill: var(--fill-color);\n",
              "    height: 32px;\n",
              "    padding: 0;\n",
              "    width: 32px;\n",
              "  }\n",
              "\n",
              "  .colab-df-quickchart:hover {\n",
              "    background-color: var(--hover-bg-color);\n",
              "    box-shadow: 0 1px 2px rgba(60, 64, 67, 0.3), 0 1px 3px 1px rgba(60, 64, 67, 0.15);\n",
              "    fill: var(--button-hover-fill-color);\n",
              "  }\n",
              "\n",
              "  .colab-df-quickchart-complete:disabled,\n",
              "  .colab-df-quickchart-complete:disabled:hover {\n",
              "    background-color: var(--disabled-bg-color);\n",
              "    fill: var(--disabled-fill-color);\n",
              "    box-shadow: none;\n",
              "  }\n",
              "\n",
              "  .colab-df-spinner {\n",
              "    border: 2px solid var(--fill-color);\n",
              "    border-color: transparent;\n",
              "    border-bottom-color: var(--fill-color);\n",
              "    animation:\n",
              "      spin 1s steps(1) infinite;\n",
              "  }\n",
              "\n",
              "  @keyframes spin {\n",
              "    0% {\n",
              "      border-color: transparent;\n",
              "      border-bottom-color: var(--fill-color);\n",
              "      border-left-color: var(--fill-color);\n",
              "    }\n",
              "    20% {\n",
              "      border-color: transparent;\n",
              "      border-left-color: var(--fill-color);\n",
              "      border-top-color: var(--fill-color);\n",
              "    }\n",
              "    30% {\n",
              "      border-color: transparent;\n",
              "      border-left-color: var(--fill-color);\n",
              "      border-top-color: var(--fill-color);\n",
              "      border-right-color: var(--fill-color);\n",
              "    }\n",
              "    40% {\n",
              "      border-color: transparent;\n",
              "      border-right-color: var(--fill-color);\n",
              "      border-top-color: var(--fill-color);\n",
              "    }\n",
              "    60% {\n",
              "      border-color: transparent;\n",
              "      border-right-color: var(--fill-color);\n",
              "    }\n",
              "    80% {\n",
              "      border-color: transparent;\n",
              "      border-right-color: var(--fill-color);\n",
              "      border-bottom-color: var(--fill-color);\n",
              "    }\n",
              "    90% {\n",
              "      border-color: transparent;\n",
              "      border-bottom-color: var(--fill-color);\n",
              "    }\n",
              "  }\n",
              "</style>\n",
              "\n",
              "  <script>\n",
              "    async function quickchart(key) {\n",
              "      const quickchartButtonEl =\n",
              "        document.querySelector('#' + key + ' button');\n",
              "      quickchartButtonEl.disabled = true;  // To prevent multiple clicks.\n",
              "      quickchartButtonEl.classList.add('colab-df-spinner');\n",
              "      try {\n",
              "        const charts = await google.colab.kernel.invokeFunction(\n",
              "            'suggestCharts', [key], {});\n",
              "      } catch (error) {\n",
              "        console.error('Error during call to suggestCharts:', error);\n",
              "      }\n",
              "      quickchartButtonEl.classList.remove('colab-df-spinner');\n",
              "      quickchartButtonEl.classList.add('colab-df-quickchart-complete');\n",
              "    }\n",
              "    (() => {\n",
              "      let quickchartButtonEl =\n",
              "        document.querySelector('#df-dbdaea66-bf5b-4d6a-9f55-3a12e88f235a button');\n",
              "      quickchartButtonEl.style.display =\n",
              "        google.colab.kernel.accessAllowed ? 'block' : 'none';\n",
              "    })();\n",
              "  </script>\n",
              "</div>\n",
              "\n",
              "    </div>\n",
              "  </div>\n"
            ],
            "application/vnd.google.colaboratory.intrinsic+json": {
              "type": "dataframe",
              "variable_name": "base"
            }
          },
          "metadata": {},
          "execution_count": 45
        }
      ]
    },
    {
      "cell_type": "code",
      "source": [
        "base.shape"
      ],
      "metadata": {
        "colab": {
          "base_uri": "https://localhost:8080/"
        },
        "id": "ZfujMQIjfV28",
        "outputId": "3a799918-d581-4797-bbc1-f5cc095f3ea5"
      },
      "execution_count": 46,
      "outputs": [
        {
          "output_type": "execute_result",
          "data": {
            "text/plain": [
              "(20000, 27)"
            ]
          },
          "metadata": {},
          "execution_count": 46
        }
      ]
    },
    {
      "cell_type": "code",
      "source": [
        "y = base.iloc[:, 7].values\n",
        "columns = []\n",
        "for i in range(27):\n",
        "  if i != 7:\n",
        "    columns.append(i)\n",
        "X = base.iloc[:, columns].values\n",
        "X"
      ],
      "metadata": {
        "colab": {
          "base_uri": "https://localhost:8080/"
        },
        "id": "n05N7waXZ4E0",
        "outputId": "a1060d2c-8932-4d9b-f9f3-0e5fa12decca"
      },
      "execution_count": 47,
      "outputs": [
        {
          "output_type": "execute_result",
          "data": {
            "text/plain": [
              "array([[False, 'Adult', 'Prole', ..., False, 'Thousand', 'Many'],\n",
              "       [False, 'Senior', 'Prole', ..., True, 'Thousand', 'Zero'],\n",
              "       [False, 'Senior', 'UpperMiddle', ..., True, 'Thousand', 'One'],\n",
              "       ...,\n",
              "       [False, 'Senior', 'UpperMiddle', ..., True, 'Thousand', 'Zero'],\n",
              "       [False, 'Adult', 'Middle', ..., True, 'Thousand', 'Zero'],\n",
              "       [False, 'Adult', 'Middle', ..., True, 'Thousand', 'Zero']],\n",
              "      dtype=object)"
            ]
          },
          "metadata": {},
          "execution_count": 47
        }
      ]
    },
    {
      "cell_type": "code",
      "source": [
        "labelEncoder = LabelEncoder()\n",
        "for i in range(X.shape[1]):\n",
        "  if X[:, i].dtype == 'object':\n",
        "    X[:, i] = labelEncoder.fit_transform(X[:,i])\n",
        "\n",
        "X"
      ],
      "metadata": {
        "colab": {
          "base_uri": "https://localhost:8080/"
        },
        "id": "u2AmWOlxa3Ic",
        "outputId": "eba83838-a6dc-4c93-ae0e-0191fbe82261"
      },
      "execution_count": 48,
      "outputs": [
        {
          "output_type": "execute_result",
          "data": {
            "text/plain": [
              "array([[0, 1, 1, ..., 0, 3, 0],\n",
              "       [0, 2, 1, ..., 1, 3, 2],\n",
              "       [0, 2, 2, ..., 1, 3, 1],\n",
              "       ...,\n",
              "       [0, 2, 2, ..., 1, 3, 2],\n",
              "       [0, 1, 0, ..., 1, 3, 2],\n",
              "       [0, 1, 0, ..., 1, 3, 2]], dtype=object)"
            ]
          },
          "metadata": {},
          "execution_count": 48
        }
      ]
    },
    {
      "cell_type": "code",
      "source": [
        "X_treinamento, X_teste, y_treinamento, y_teste = train_test_split(X,y,test_size=0.3, random_state=1)"
      ],
      "metadata": {
        "id": "XpPmYR3BbpgL"
      },
      "execution_count": 49,
      "outputs": []
    },
    {
      "cell_type": "code",
      "source": [
        "modelo = GaussianNB()\n",
        "modelo.fit(X_treinamento, y_treinamento)"
      ],
      "metadata": {
        "colab": {
          "base_uri": "https://localhost:8080/",
          "height": 75
        },
        "id": "L_lyYElAcQCi",
        "outputId": "d5144590-12f0-49da-bfcb-bbbfed25b412"
      },
      "execution_count": 50,
      "outputs": [
        {
          "output_type": "execute_result",
          "data": {
            "text/plain": [
              "GaussianNB()"
            ],
            "text/html": [
              "<style>#sk-container-id-2 {color: black;background-color: white;}#sk-container-id-2 pre{padding: 0;}#sk-container-id-2 div.sk-toggleable {background-color: white;}#sk-container-id-2 label.sk-toggleable__label {cursor: pointer;display: block;width: 100%;margin-bottom: 0;padding: 0.3em;box-sizing: border-box;text-align: center;}#sk-container-id-2 label.sk-toggleable__label-arrow:before {content: \"▸\";float: left;margin-right: 0.25em;color: #696969;}#sk-container-id-2 label.sk-toggleable__label-arrow:hover:before {color: black;}#sk-container-id-2 div.sk-estimator:hover label.sk-toggleable__label-arrow:before {color: black;}#sk-container-id-2 div.sk-toggleable__content {max-height: 0;max-width: 0;overflow: hidden;text-align: left;background-color: #f0f8ff;}#sk-container-id-2 div.sk-toggleable__content pre {margin: 0.2em;color: black;border-radius: 0.25em;background-color: #f0f8ff;}#sk-container-id-2 input.sk-toggleable__control:checked~div.sk-toggleable__content {max-height: 200px;max-width: 100%;overflow: auto;}#sk-container-id-2 input.sk-toggleable__control:checked~label.sk-toggleable__label-arrow:before {content: \"▾\";}#sk-container-id-2 div.sk-estimator input.sk-toggleable__control:checked~label.sk-toggleable__label {background-color: #d4ebff;}#sk-container-id-2 div.sk-label input.sk-toggleable__control:checked~label.sk-toggleable__label {background-color: #d4ebff;}#sk-container-id-2 input.sk-hidden--visually {border: 0;clip: rect(1px 1px 1px 1px);clip: rect(1px, 1px, 1px, 1px);height: 1px;margin: -1px;overflow: hidden;padding: 0;position: absolute;width: 1px;}#sk-container-id-2 div.sk-estimator {font-family: monospace;background-color: #f0f8ff;border: 1px dotted black;border-radius: 0.25em;box-sizing: border-box;margin-bottom: 0.5em;}#sk-container-id-2 div.sk-estimator:hover {background-color: #d4ebff;}#sk-container-id-2 div.sk-parallel-item::after {content: \"\";width: 100%;border-bottom: 1px solid gray;flex-grow: 1;}#sk-container-id-2 div.sk-label:hover label.sk-toggleable__label {background-color: #d4ebff;}#sk-container-id-2 div.sk-serial::before {content: \"\";position: absolute;border-left: 1px solid gray;box-sizing: border-box;top: 0;bottom: 0;left: 50%;z-index: 0;}#sk-container-id-2 div.sk-serial {display: flex;flex-direction: column;align-items: center;background-color: white;padding-right: 0.2em;padding-left: 0.2em;position: relative;}#sk-container-id-2 div.sk-item {position: relative;z-index: 1;}#sk-container-id-2 div.sk-parallel {display: flex;align-items: stretch;justify-content: center;background-color: white;position: relative;}#sk-container-id-2 div.sk-item::before, #sk-container-id-2 div.sk-parallel-item::before {content: \"\";position: absolute;border-left: 1px solid gray;box-sizing: border-box;top: 0;bottom: 0;left: 50%;z-index: -1;}#sk-container-id-2 div.sk-parallel-item {display: flex;flex-direction: column;z-index: 1;position: relative;background-color: white;}#sk-container-id-2 div.sk-parallel-item:first-child::after {align-self: flex-end;width: 50%;}#sk-container-id-2 div.sk-parallel-item:last-child::after {align-self: flex-start;width: 50%;}#sk-container-id-2 div.sk-parallel-item:only-child::after {width: 0;}#sk-container-id-2 div.sk-dashed-wrapped {border: 1px dashed gray;margin: 0 0.4em 0.5em 0.4em;box-sizing: border-box;padding-bottom: 0.4em;background-color: white;}#sk-container-id-2 div.sk-label label {font-family: monospace;font-weight: bold;display: inline-block;line-height: 1.2em;}#sk-container-id-2 div.sk-label-container {text-align: center;}#sk-container-id-2 div.sk-container {/* jupyter's `normalize.less` sets `[hidden] { display: none; }` but bootstrap.min.css set `[hidden] { display: none !important; }` so we also need the `!important` here to be able to override the default hidden behavior on the sphinx rendered scikit-learn.org. See: https://github.com/scikit-learn/scikit-learn/issues/21755 */display: inline-block !important;position: relative;}#sk-container-id-2 div.sk-text-repr-fallback {display: none;}</style><div id=\"sk-container-id-2\" class=\"sk-top-container\"><div class=\"sk-text-repr-fallback\"><pre>GaussianNB()</pre><b>In a Jupyter environment, please rerun this cell to show the HTML representation or trust the notebook. <br />On GitHub, the HTML representation is unable to render, please try loading this page with nbviewer.org.</b></div><div class=\"sk-container\" hidden><div class=\"sk-item\"><div class=\"sk-estimator sk-toggleable\"><input class=\"sk-toggleable__control sk-hidden--visually\" id=\"sk-estimator-id-2\" type=\"checkbox\" checked><label for=\"sk-estimator-id-2\" class=\"sk-toggleable__label sk-toggleable__label-arrow\">GaussianNB</label><div class=\"sk-toggleable__content\"><pre>GaussianNB()</pre></div></div></div></div></div>"
            ]
          },
          "metadata": {},
          "execution_count": 50
        }
      ]
    },
    {
      "cell_type": "code",
      "source": [
        "previsoes = modelo.predict(X_teste)\n"
      ],
      "metadata": {
        "id": "eGpRD324ftFp"
      },
      "execution_count": 51,
      "outputs": []
    },
    {
      "cell_type": "code",
      "source": [
        "previsoes"
      ],
      "metadata": {
        "colab": {
          "base_uri": "https://localhost:8080/"
        },
        "id": "HcaAcL5Jf1RJ",
        "outputId": "8be159b0-a969-4a9a-f995-65046d4547a5"
      },
      "execution_count": 52,
      "outputs": [
        {
          "output_type": "execute_result",
          "data": {
            "text/plain": [
              "array(['None', 'None', 'None', ..., 'None', 'Mild', 'None'], dtype='<U8')"
            ]
          },
          "metadata": {},
          "execution_count": 52
        }
      ]
    },
    {
      "cell_type": "code",
      "source": [
        "accuracy = accuracy_score(y_teste, previsoes)\n",
        "precision = precision_score(y_teste, previsoes, average=None)\n",
        "recall = recall_score(y_teste, previsoes, average=None)\n",
        "f1 = f1_score(y_teste, previsoes, average='weighted')\n",
        "\n",
        "print(f'acuracia: {accuracy}, precisao: {precision}, recall: {recall}, f1: {f1}')"
      ],
      "metadata": {
        "colab": {
          "base_uri": "https://localhost:8080/"
        },
        "id": "_jJPFbHegeyZ",
        "outputId": "121ed204-df86-4b97-f24d-ea498ff1a9a9"
      },
      "execution_count": 56,
      "outputs": [
        {
          "output_type": "stream",
          "name": "stdout",
          "text": [
            "acuracia: 0.8361666666666666, precisao: [0.67457627 0.34980989 0.97525439 1.        ], recall: [0.73431734 0.72871287 0.9973983  0.04689655], f1: 0.8090758902175055\n"
          ]
        }
      ]
    },
    {
      "cell_type": "code",
      "source": [
        "report = classification_report(y_teste, previsoes)\n",
        "print(report)"
      ],
      "metadata": {
        "colab": {
          "base_uri": "https://localhost:8080/"
        },
        "id": "qSfhpFgWgu__",
        "outputId": "ba3cca53-7f1b-4957-bc25-bda87fe6817a"
      },
      "execution_count": 59,
      "outputs": [
        {
          "output_type": "stream",
          "name": "stdout",
          "text": [
            "              precision    recall  f1-score   support\n",
            "\n",
            "        Mild       0.67      0.73      0.70       542\n",
            "    Moderate       0.35      0.73      0.47       505\n",
            "        None       0.98      1.00      0.99      4228\n",
            "      Severe       1.00      0.05      0.09       725\n",
            "\n",
            "    accuracy                           0.84      6000\n",
            "   macro avg       0.75      0.63      0.56      6000\n",
            "weighted avg       0.90      0.84      0.81      6000\n",
            "\n"
          ]
        }
      ]
    },
    {
      "cell_type": "code",
      "source": [
        "confusao = ConfusionMatrix(modelo, classes=['None', 'Severe', 'Mild', 'Moderate'])\n",
        "confusao.fit(X_treinamento, y_treinamento)\n",
        "confusao.score(X_teste, y_teste)\n",
        "confusao.poof()"
      ],
      "metadata": {
        "colab": {
          "base_uri": "https://localhost:8080/",
          "height": 568
        },
        "id": "eBR2aCMliPFb",
        "outputId": "d1124912-459d-4fdf-9a39-94f9985f2d92"
      },
      "execution_count": 60,
      "outputs": [
        {
          "output_type": "display_data",
          "data": {
            "text/plain": [
              "<Figure size 800x550 with 1 Axes>"
            ],
            "image/png": "[encoded data removed]"
          },
          "metadata": {}
        },
        {
          "output_type": "execute_result",
          "data": {
            "text/plain": [
              "<Axes: title={'center': 'GaussianNB Confusion Matrix'}, xlabel='Predicted Class', ylabel='True Class'>"
            ]
          },
          "metadata": {},
          "execution_count": 60
        }
      ]
    }
  ]
}